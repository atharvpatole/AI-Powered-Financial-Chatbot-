{
 "cells": [
  {
   "cell_type": "code",
   "execution_count": 5,
   "id": "877b7bd0-037a-496e-a457-290b5411fe39",
   "metadata": {},
   "outputs": [
    {
     "name": "stdout",
     "output_type": "stream",
     "text": [
      "Defaulting to user installation because normal site-packages is not writeable\n",
      "Requirement already satisfied: pandas in c:\\users\\athar\\appdata\\roaming\\python\\python312\\site-packages (2.2.3)\n",
      "Requirement already satisfied: numpy>=1.26.0 in c:\\users\\athar\\appdata\\roaming\\python\\python312\\site-packages (from pandas) (2.2.3)\n",
      "Requirement already satisfied: python-dateutil>=2.8.2 in c:\\users\\athar\\appdata\\roaming\\python\\python312\\site-packages (from pandas) (2.9.0.post0)\n",
      "Requirement already satisfied: pytz>=2020.1 in c:\\users\\athar\\appdata\\roaming\\python\\python312\\site-packages (from pandas) (2025.1)\n",
      "Requirement already satisfied: tzdata>=2022.7 in c:\\users\\athar\\appdata\\roaming\\python\\python312\\site-packages (from pandas) (2025.1)\n",
      "Requirement already satisfied: six>=1.5 in c:\\users\\athar\\appdata\\roaming\\python\\python312\\site-packages (from python-dateutil>=2.8.2->pandas) (1.17.0)\n",
      "Note: you may need to restart the kernel to use updated packages.\n"
     ]
    }
   ],
   "source": [
    "pip install pandas"
   ]
  },
  {
   "cell_type": "code",
   "execution_count": 7,
   "id": "013210c2-4f8c-468d-9eb1-168a7aa55971",
   "metadata": {},
   "outputs": [],
   "source": [
    "import pandas as pd"
   ]
  },
  {
   "cell_type": "code",
   "execution_count": 8,
   "id": "8ce0468b-4770-40a0-8e2a-d5d8077e0e1d",
   "metadata": {},
   "outputs": [
    {
     "name": "stdout",
     "output_type": "stream",
     "text": [
      "Defaulting to user installation because normal site-packages is not writeable\n",
      "Requirement already satisfied: pandas in c:\\users\\athar\\appdata\\roaming\\python\\python312\\site-packages (2.2.3)\n",
      "Requirement already satisfied: openpyxl in c:\\users\\athar\\appdata\\roaming\\python\\python312\\site-packages (3.1.5)\n",
      "Requirement already satisfied: numpy>=1.26.0 in c:\\users\\athar\\appdata\\roaming\\python\\python312\\site-packages (from pandas) (2.2.3)\n",
      "Requirement already satisfied: python-dateutil>=2.8.2 in c:\\users\\athar\\appdata\\roaming\\python\\python312\\site-packages (from pandas) (2.9.0.post0)\n",
      "Requirement already satisfied: pytz>=2020.1 in c:\\users\\athar\\appdata\\roaming\\python\\python312\\site-packages (from pandas) (2025.1)\n",
      "Requirement already satisfied: tzdata>=2022.7 in c:\\users\\athar\\appdata\\roaming\\python\\python312\\site-packages (from pandas) (2025.1)\n",
      "Requirement already satisfied: et-xmlfile in c:\\users\\athar\\appdata\\roaming\\python\\python312\\site-packages (from openpyxl) (2.0.0)\n",
      "Requirement already satisfied: six>=1.5 in c:\\users\\athar\\appdata\\roaming\\python\\python312\\site-packages (from python-dateutil>=2.8.2->pandas) (1.17.0)\n",
      "Note: you may need to restart the kernel to use updated packages.\n"
     ]
    }
   ],
   "source": [
    "pip install pandas openpyxl"
   ]
  },
  {
   "cell_type": "code",
   "execution_count": null,
   "id": "df248b08-4f44-4211-b8cd-6cab1c539d72",
   "metadata": {},
   "outputs": [],
   "source": [
    "# Load the dataset"
   ]
  },
  {
   "cell_type": "code",
   "execution_count": 10,
   "id": "5160db0b-228c-4df7-b845-1e450806d9ee",
   "metadata": {},
   "outputs": [
    {
     "name": "stdout",
     "output_type": "stream",
     "text": [
      "     Company Fiscal Year Ended  Total Revenue   Net Income  Total Assets  \\\n",
      "0  Microsoft        2022-06-30   198270000000  72740000000  364840000000   \n",
      "1  Microsoft        2023-06-30   211920000000  77280000000  387660000000   \n",
      "2  Microsoft        2024-06-30   225500000000  82150000000  410500000000   \n",
      "3      Tesla        2021-12-31    53820000000   5520000000   62130000000   \n",
      "4      Tesla        2022-12-31    81460000000  12560000000   82340000000   \n",
      "\n",
      "   Total Liabilities     Cash Flow  \n",
      "0       191790000000   89040000000  \n",
      "1       202980000000   95200000000  \n",
      "2       215300000000  100500000000  \n",
      "3        28400000000   11500000000  \n",
      "4        33100000000   14720000000  \n"
     ]
    }
   ],
   "source": [
    "file_path = r\"C:\\Atharv\\Forage\\BCG GenAI\\Data Extraction.xlsx\"\n",
    "df = pd.read_excel(file_path, sheet_name=\"Sheet\")\n",
    "print(df.head())"
   ]
  },
  {
   "cell_type": "code",
   "execution_count": null,
   "id": "cccb81cd-77fc-430e-8696-b6388a41e11d",
   "metadata": {},
   "outputs": [],
   "source": [
    "# Convert financial columns to numeric"
   ]
  },
  {
   "cell_type": "code",
   "execution_count": 11,
   "id": "ea93363f-fb04-487d-9e8c-3de1871e4e4e",
   "metadata": {},
   "outputs": [],
   "source": [
    "cols_to_convert = [\"Total Revenue\", \"Net Income\", \"Total Assets\", \"Total Liabilities\", \"Cash Flow\"]\n",
    "df[cols_to_convert] = df[cols_to_convert].apply(pd.to_numeric)"
   ]
  },
  {
   "cell_type": "code",
   "execution_count": null,
   "id": "4610faa1-c423-400f-8fe3-3de3fdb140dc",
   "metadata": {},
   "outputs": [],
   "source": [
    "# Convert Fiscal Year column to datetime for sorting"
   ]
  },
  {
   "cell_type": "code",
   "execution_count": 12,
   "id": "42f96b2b-a8d8-463f-9c2f-159907cfe575",
   "metadata": {},
   "outputs": [],
   "source": [
    "df[\"Fiscal Year Ended\"] = pd.to_datetime(df[\"Fiscal Year Ended\"])"
   ]
  },
  {
   "cell_type": "code",
   "execution_count": null,
   "id": "80489dfd-9d72-4164-8d5a-e312b3023cbe",
   "metadata": {},
   "outputs": [],
   "source": [
    "# Sort by Company and Fiscal Year"
   ]
  },
  {
   "cell_type": "code",
   "execution_count": 13,
   "id": "04382d33-6700-4256-a735-7ce31999f16a",
   "metadata": {},
   "outputs": [],
   "source": [
    "df = df.sort_values(by=[\"Company\", \"Fiscal Year Ended\"])"
   ]
  },
  {
   "cell_type": "code",
   "execution_count": null,
   "id": "08a48792-ae2a-4323-9cde-36cb118a2737",
   "metadata": {},
   "outputs": [],
   "source": [
    "# Calculate Year-over-Year Percentage Growth"
   ]
  },
  {
   "cell_type": "code",
   "execution_count": 14,
   "id": "f65223d3-2c78-4063-ab41-8c0a62cc1458",
   "metadata": {},
   "outputs": [],
   "source": [
    "df[\"Revenue Growth (%)\"] = df.groupby(\"Company\")[\"Total Revenue\"].pct_change() * 100\n",
    "df[\"Net Income Growth (%)\"] = df.groupby(\"Company\")[\"Net Income\"].pct_change() * 100\n",
    "df[\"Assets Growth (%)\"] = df.groupby(\"Company\")[\"Total Assets\"].pct_change() * 100\n",
    "df[\"Liabilities Growth (%)\"] = df.groupby(\"Company\")[\"Total Liabilities\"].pct_change() * 100\n",
    "df[\"Cash Flow Growth (%)\"] = df.groupby(\"Company\")[\"Cash Flow\"].pct_change() * 100"
   ]
  },
  {
   "cell_type": "code",
   "execution_count": 15,
   "id": "cda570c0-f4cb-40c8-b921-007db965b6ca",
   "metadata": {},
   "outputs": [
    {
     "data": {
      "text/html": [
       "<div>\n",
       "<style scoped>\n",
       "    .dataframe tbody tr th:only-of-type {\n",
       "        vertical-align: middle;\n",
       "    }\n",
       "\n",
       "    .dataframe tbody tr th {\n",
       "        vertical-align: top;\n",
       "    }\n",
       "\n",
       "    .dataframe thead th {\n",
       "        text-align: right;\n",
       "    }\n",
       "</style>\n",
       "<table border=\"1\" class=\"dataframe\">\n",
       "  <thead>\n",
       "    <tr style=\"text-align: right;\">\n",
       "      <th></th>\n",
       "      <th>Company</th>\n",
       "      <th>Fiscal Year Ended</th>\n",
       "      <th>Total Revenue</th>\n",
       "      <th>Net Income</th>\n",
       "      <th>Total Assets</th>\n",
       "      <th>Total Liabilities</th>\n",
       "      <th>Cash Flow</th>\n",
       "      <th>Revenue Growth (%)</th>\n",
       "      <th>Net Income Growth (%)</th>\n",
       "      <th>Assets Growth (%)</th>\n",
       "      <th>Liabilities Growth (%)</th>\n",
       "      <th>Cash Flow Growth (%)</th>\n",
       "    </tr>\n",
       "  </thead>\n",
       "  <tbody>\n",
       "    <tr>\n",
       "      <th>6</th>\n",
       "      <td>Apple</td>\n",
       "      <td>2021-09-25</td>\n",
       "      <td>365820000000</td>\n",
       "      <td>94680000000</td>\n",
       "      <td>351000000000</td>\n",
       "      <td>287910000000</td>\n",
       "      <td>104040000000</td>\n",
       "      <td>NaN</td>\n",
       "      <td>NaN</td>\n",
       "      <td>NaN</td>\n",
       "      <td>NaN</td>\n",
       "      <td>NaN</td>\n",
       "    </tr>\n",
       "    <tr>\n",
       "      <th>7</th>\n",
       "      <td>Apple</td>\n",
       "      <td>2022-09-24</td>\n",
       "      <td>394330000000</td>\n",
       "      <td>99800000000</td>\n",
       "      <td>352760000000</td>\n",
       "      <td>302830000000</td>\n",
       "      <td>109180000000</td>\n",
       "      <td>7.793450</td>\n",
       "      <td>5.407689</td>\n",
       "      <td>0.501425</td>\n",
       "      <td>5.182175</td>\n",
       "      <td>4.940408</td>\n",
       "    </tr>\n",
       "    <tr>\n",
       "      <th>8</th>\n",
       "      <td>Apple</td>\n",
       "      <td>2023-09-30</td>\n",
       "      <td>383000000000</td>\n",
       "      <td>96900000000</td>\n",
       "      <td>351000000000</td>\n",
       "      <td>300000000000</td>\n",
       "      <td>100000000000</td>\n",
       "      <td>-2.873228</td>\n",
       "      <td>-2.905812</td>\n",
       "      <td>-0.498923</td>\n",
       "      <td>-0.934518</td>\n",
       "      <td>-8.408133</td>\n",
       "    </tr>\n",
       "    <tr>\n",
       "      <th>0</th>\n",
       "      <td>Microsoft</td>\n",
       "      <td>2022-06-30</td>\n",
       "      <td>198270000000</td>\n",
       "      <td>72740000000</td>\n",
       "      <td>364840000000</td>\n",
       "      <td>191790000000</td>\n",
       "      <td>89040000000</td>\n",
       "      <td>NaN</td>\n",
       "      <td>NaN</td>\n",
       "      <td>NaN</td>\n",
       "      <td>NaN</td>\n",
       "      <td>NaN</td>\n",
       "    </tr>\n",
       "    <tr>\n",
       "      <th>1</th>\n",
       "      <td>Microsoft</td>\n",
       "      <td>2023-06-30</td>\n",
       "      <td>211920000000</td>\n",
       "      <td>77280000000</td>\n",
       "      <td>387660000000</td>\n",
       "      <td>202980000000</td>\n",
       "      <td>95200000000</td>\n",
       "      <td>6.884551</td>\n",
       "      <td>6.241408</td>\n",
       "      <td>6.254797</td>\n",
       "      <td>5.834506</td>\n",
       "      <td>6.918239</td>\n",
       "    </tr>\n",
       "    <tr>\n",
       "      <th>2</th>\n",
       "      <td>Microsoft</td>\n",
       "      <td>2024-06-30</td>\n",
       "      <td>225500000000</td>\n",
       "      <td>82150000000</td>\n",
       "      <td>410500000000</td>\n",
       "      <td>215300000000</td>\n",
       "      <td>100500000000</td>\n",
       "      <td>6.408079</td>\n",
       "      <td>6.301760</td>\n",
       "      <td>5.891761</td>\n",
       "      <td>6.069564</td>\n",
       "      <td>5.567227</td>\n",
       "    </tr>\n",
       "    <tr>\n",
       "      <th>3</th>\n",
       "      <td>Tesla</td>\n",
       "      <td>2021-12-31</td>\n",
       "      <td>53820000000</td>\n",
       "      <td>5520000000</td>\n",
       "      <td>62130000000</td>\n",
       "      <td>28400000000</td>\n",
       "      <td>11500000000</td>\n",
       "      <td>NaN</td>\n",
       "      <td>NaN</td>\n",
       "      <td>NaN</td>\n",
       "      <td>NaN</td>\n",
       "      <td>NaN</td>\n",
       "    </tr>\n",
       "    <tr>\n",
       "      <th>4</th>\n",
       "      <td>Tesla</td>\n",
       "      <td>2022-12-31</td>\n",
       "      <td>81460000000</td>\n",
       "      <td>12560000000</td>\n",
       "      <td>82340000000</td>\n",
       "      <td>33100000000</td>\n",
       "      <td>14720000000</td>\n",
       "      <td>51.356373</td>\n",
       "      <td>127.536232</td>\n",
       "      <td>32.528569</td>\n",
       "      <td>16.549296</td>\n",
       "      <td>28.000000</td>\n",
       "    </tr>\n",
       "    <tr>\n",
       "      <th>5</th>\n",
       "      <td>Tesla</td>\n",
       "      <td>2023-12-31</td>\n",
       "      <td>94000000000</td>\n",
       "      <td>15000000000</td>\n",
       "      <td>93000000000</td>\n",
       "      <td>35000000000</td>\n",
       "      <td>16000000000</td>\n",
       "      <td>15.394058</td>\n",
       "      <td>19.426752</td>\n",
       "      <td>12.946320</td>\n",
       "      <td>5.740181</td>\n",
       "      <td>8.695652</td>\n",
       "    </tr>\n",
       "  </tbody>\n",
       "</table>\n",
       "</div>"
      ],
      "text/plain": [
       "     Company Fiscal Year Ended  Total Revenue   Net Income  Total Assets  \\\n",
       "6      Apple        2021-09-25   365820000000  94680000000  351000000000   \n",
       "7      Apple        2022-09-24   394330000000  99800000000  352760000000   \n",
       "8      Apple        2023-09-30   383000000000  96900000000  351000000000   \n",
       "0  Microsoft        2022-06-30   198270000000  72740000000  364840000000   \n",
       "1  Microsoft        2023-06-30   211920000000  77280000000  387660000000   \n",
       "2  Microsoft        2024-06-30   225500000000  82150000000  410500000000   \n",
       "3      Tesla        2021-12-31    53820000000   5520000000   62130000000   \n",
       "4      Tesla        2022-12-31    81460000000  12560000000   82340000000   \n",
       "5      Tesla        2023-12-31    94000000000  15000000000   93000000000   \n",
       "\n",
       "   Total Liabilities     Cash Flow  Revenue Growth (%)  Net Income Growth (%)  \\\n",
       "6       287910000000  104040000000                 NaN                    NaN   \n",
       "7       302830000000  109180000000            7.793450               5.407689   \n",
       "8       300000000000  100000000000           -2.873228              -2.905812   \n",
       "0       191790000000   89040000000                 NaN                    NaN   \n",
       "1       202980000000   95200000000            6.884551               6.241408   \n",
       "2       215300000000  100500000000            6.408079               6.301760   \n",
       "3        28400000000   11500000000                 NaN                    NaN   \n",
       "4        33100000000   14720000000           51.356373             127.536232   \n",
       "5        35000000000   16000000000           15.394058              19.426752   \n",
       "\n",
       "   Assets Growth (%)  Liabilities Growth (%)  Cash Flow Growth (%)  \n",
       "6                NaN                     NaN                   NaN  \n",
       "7           0.501425                5.182175              4.940408  \n",
       "8          -0.498923               -0.934518             -8.408133  \n",
       "0                NaN                     NaN                   NaN  \n",
       "1           6.254797                5.834506              6.918239  \n",
       "2           5.891761                6.069564              5.567227  \n",
       "3                NaN                     NaN                   NaN  \n",
       "4          32.528569               16.549296             28.000000  \n",
       "5          12.946320                5.740181              8.695652  "
      ]
     },
     "execution_count": 15,
     "metadata": {},
     "output_type": "execute_result"
    }
   ],
   "source": [
    "df.head(10)"
   ]
  },
  {
   "cell_type": "code",
   "execution_count": 1,
   "id": "453cb4e3-3ce9-4ad5-939a-bf484bad91d1",
   "metadata": {},
   "outputs": [
    {
     "name": "stdout",
     "output_type": "stream",
     "text": [
      "Defaulting to user installation because normal site-packages is not writeable\n",
      "Requirement already satisfied: flask in c:\\users\\athar\\appdata\\roaming\\python\\python312\\site-packages (3.1.0)\n",
      "Requirement already satisfied: Werkzeug>=3.1 in c:\\users\\athar\\appdata\\roaming\\python\\python312\\site-packages (from flask) (3.1.3)\n",
      "Requirement already satisfied: Jinja2>=3.1.2 in c:\\users\\athar\\appdata\\roaming\\python\\python312\\site-packages (from flask) (3.1.6)\n",
      "Requirement already satisfied: itsdangerous>=2.2 in c:\\users\\athar\\appdata\\roaming\\python\\python312\\site-packages (from flask) (2.2.0)\n",
      "Requirement already satisfied: click>=8.1.3 in c:\\users\\athar\\appdata\\roaming\\python\\python312\\site-packages (from flask) (8.1.8)\n",
      "Requirement already satisfied: blinker>=1.9 in c:\\users\\athar\\appdata\\roaming\\python\\python312\\site-packages (from flask) (1.9.0)\n",
      "Requirement already satisfied: colorama in c:\\users\\athar\\appdata\\roaming\\python\\python312\\site-packages (from click>=8.1.3->flask) (0.4.6)\n",
      "Requirement already satisfied: MarkupSafe>=2.0 in c:\\users\\athar\\appdata\\roaming\\python\\python312\\site-packages (from Jinja2>=3.1.2->flask) (3.0.2)\n"
     ]
    }
   ],
   "source": [
    "!pip install flask"
   ]
  },
  {
   "cell_type": "code",
   "execution_count": 2,
   "id": "ba4b7b99-ca63-4663-a6ff-53e0b54eb164",
   "metadata": {},
   "outputs": [],
   "source": [
    "def load_data(file_path):\n",
    "    df = pd.read_excel(file_path, sheet_name=\"Sheet\")\n",
    "    df[\"Company\"] = df[\"Company\"].ffill()\n",
    "    df[\"Fiscal Year Ended\"] = pd.to_datetime(df[\"Fiscal Year Ended\"])\n",
    "    df = df.sort_values(by=[\"Company\", \"Fiscal Year Ended\"], ascending=[True, False])\n",
    "    return df"
   ]
  },
  {
   "cell_type": "code",
   "execution_count": 10,
   "id": "a24d69a8-07bc-4f53-910a-0ab0f402cada",
   "metadata": {},
   "outputs": [
    {
     "name": "stdin",
     "output_type": "stream",
     "text": [
      "Enter the company name (e.g., Microsoft, Tesla, Apple):  Tesla\n",
      "Ask a financial question:  What is the total revenue?\n"
     ]
    },
    {
     "name": "stdout",
     "output_type": "stream",
     "text": [
      "The total revenue for Tesla in 2021 was $53,820,000,000.00.\n"
     ]
    }
   ],
   "source": [
    "def simple_chatbot(user_query, company, df):\n",
    "    latest_data = df[df[\"Company\"] == company].iloc[0]  # Get latest year's data\n",
    "    \n",
    "    if user_query == \"What is the total revenue?\":\n",
    "        return f\"The total revenue for {company} in {latest_data['Fiscal Year Ended'].year} was ${latest_data['Total Revenue']:,.2f}.\"\n",
    "    elif user_query == \"How has net income changed over the last year?\":\n",
    "        return f\"The net income for {company} in {latest_data['Fiscal Year Ended'].year} was ${latest_data['Net Income']:,.2f}.\"\n",
    "    elif user_query == \"What are the total assets?\":\n",
    "        return f\"The total assets for {company} in {latest_data['Fiscal Year Ended'].year} were ${latest_data['Total Assets']:,.2f}.\"\n",
    "    elif user_query == \"What are the total liabilities?\":\n",
    "        return f\"The total liabilities for {company} in {latest_data['Fiscal Year Ended'].year} were ${latest_data['Total Liabilities']:,.2f}.\"\n",
    "    elif user_query == \"What is the cash flow from operating activities?\":\n",
    "        return f\"The cash flow from operating activities for {company} in {latest_data['Fiscal Year Ended'].year} was ${latest_data['Cash Flow']:,.2f}.\"\n",
    "    else:\n",
    "        return \"Sorry, I can only provide information on predefined queries.\"\n",
    "\n",
    "if __name__ == \"__main__\":\n",
    "    file_path =  r\"C:\\Atharv\\Forage\\BCG GenAI\\Data Extraction.xlsx\"\n",
    "    df = pd.read_excel(file_path, sheet_name=\"Sheet\")\n",
    "    \n",
    "    company = input(\"Enter the company name (e.g., Microsoft, Tesla, Apple): \")\n",
    "    query = input(\"Ask a financial question: \")\n",
    "    response = simple_chatbot(query, company, df)\n",
    "    print(response)"
   ]
  },
  {
   "cell_type": "code",
   "execution_count": null,
   "id": "059e0858-8580-4004-ae30-066f7ae977b8",
   "metadata": {},
   "outputs": [],
   "source": []
  }
 ],
 "metadata": {
  "kernelspec": {
   "display_name": "Python 3 (ipykernel)",
   "language": "python",
   "name": "python3"
  },
  "language_info": {
   "codemirror_mode": {
    "name": "ipython",
    "version": 3
   },
   "file_extension": ".py",
   "mimetype": "text/x-python",
   "name": "python",
   "nbconvert_exporter": "python",
   "pygments_lexer": "ipython3",
   "version": "3.12.2"
  }
 },
 "nbformat": 4,
 "nbformat_minor": 5
}
